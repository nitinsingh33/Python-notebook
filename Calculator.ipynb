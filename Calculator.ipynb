{
  "nbformat": 4,
  "nbformat_minor": 0,
  "metadata": {
    "colab": {
      "provenance": [],
      "authorship_tag": "ABX9TyNgbofNjIIi9zFs2W09xF8p",
      "include_colab_link": true
    },
    "kernelspec": {
      "name": "python3",
      "display_name": "Python 3"
    },
    "language_info": {
      "name": "python"
    }
  },
  "cells": [
    {
      "cell_type": "markdown",
      "metadata": {
        "id": "view-in-github",
        "colab_type": "text"
      },
      "source": [
        "<a href=\"https://colab.research.google.com/github/nitinsingh33/Python-notebook/blob/main/Calculator.ipynb\" target=\"_parent\"><img src=\"https://colab.research.google.com/assets/colab-badge.svg\" alt=\"Open In Colab\"/></a>"
      ]
    },
    {
      "cell_type": "markdown",
      "source": [
        "# Calculator"
      ],
      "metadata": {
        "id": "VDDluKPkzC1W"
      }
    },
    {
      "cell_type": "code",
      "source": [
        "first = input(\"enter first number : \")\n",
        "operator = input(\"enter operator (+,-,*,/,%) : \")\n",
        "second = input(\"enter second number : \")\n",
        "\n",
        "first = int(first)\n",
        "second = int(second)\n",
        "\n",
        "if operator == \"+\":\n",
        "    print(first + second)\n",
        "elif operator == \"-\":\n",
        "    print(first - second)\n",
        "elif operator == \"*\":\n",
        "    print(first * second)\n",
        "elif operator == \"/\":\n",
        "    print(first / second)\n",
        "elif operator == \"%\":\n",
        "    print(first % second)\n",
        "else:\n",
        "    print(\"Invalid Operation\")"
      ],
      "metadata": {
        "id": "RsGhNSNbzG9e"
      },
      "execution_count": null,
      "outputs": []
    }
  ]
}